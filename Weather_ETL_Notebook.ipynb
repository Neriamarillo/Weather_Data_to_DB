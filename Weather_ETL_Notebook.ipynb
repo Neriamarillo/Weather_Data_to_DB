{
 "cells": [
  {
   "cell_type": "code",
   "execution_count": 3,
   "id": "cfeeaf5c",
   "metadata": {
    "ExecuteTime": {
     "end_time": "2021-06-18T21:33:22.356901Z",
     "start_time": "2021-06-18T21:33:21.277862Z"
    }
   },
   "outputs": [],
   "source": [
    "import findspark\n",
    "findspark.init()\n",
    "import os\n",
    "import pandas as pd\n",
    "import requests\n",
    "import json\n",
    "import datetime\n",
    "import pyspark\n",
    "from pyspark.sql import *\n",
    "import pyspark.sql.functions as F\n",
    "from pyspark.sql.types import *\n",
    "from pyspark import SparkContext, SparkConf\n",
    "import pprint\n",
    "from config import Config"
   ]
  },
  {
   "cell_type": "code",
   "execution_count": 4,
   "id": "532e0e8b",
   "metadata": {
    "ExecuteTime": {
     "end_time": "2021-06-18T21:33:22.373781Z",
     "start_time": "2021-06-18T21:33:22.359789Z"
    }
   },
   "outputs": [],
   "source": [
    "os.environ['PYSPARK_SUBMIT_ARGS'] = '--packages=com.amazonaws:aws-java-sdk:1.11.1034,org.apache.hadoop:hadoop-aws:3.2.0 pyspark-shell'\n",
    "config = Config()"
   ]
  },
  {
   "cell_type": "code",
   "execution_count": 5,
   "id": "3c2530d9",
   "metadata": {
    "ExecuteTime": {
     "end_time": "2021-06-18T21:33:23.114973Z",
     "start_time": "2021-06-18T21:33:23.107680Z"
    }
   },
   "outputs": [],
   "source": [
    "conf = SparkConf().set('spark.executor.extraJavaOptions','-Dcom.amazonaws.services.s3.enableV4=true'). \\\n",
    " set('spark.driver.extraJavaOptions','-Dcom.amazonaws.services.s3.enableV4=true'). \\\n",
    " setAppName('weather_etl_aws').setMaster('local[*]')"
   ]
  },
  {
   "cell_type": "code",
   "execution_count": 6,
   "id": "4761590a",
   "metadata": {
    "ExecuteTime": {
     "end_time": "2021-06-18T21:33:48.448412Z",
     "start_time": "2021-06-18T21:33:24.127868Z"
    }
   },
   "outputs": [],
   "source": [
    "sc = SparkContext(conf=conf)"
   ]
  },
  {
   "cell_type": "code",
   "execution_count": 7,
   "id": "e3a6bc20",
   "metadata": {
    "ExecuteTime": {
     "end_time": "2021-06-18T21:39:28.140251Z",
     "start_time": "2021-06-18T21:39:27.961380Z"
    }
   },
   "outputs": [],
   "source": [
    "sc.setSystemProperty('com.amazonaws.services.s3.enableV4', 'true')\n",
    "spark = SparkSession(sc)\n",
    "yesterday = datetime.datetime.now() - datetime.timedelta(days=1)\n",
    "timestamp = datetime.datetime.timestamp(yesterday)\n",
    "pp = pprint.PrettyPrinter(compact=True)"
   ]
  },
  {
   "cell_type": "code",
   "execution_count": 8,
   "id": "e1dabe54",
   "metadata": {
    "ExecuteTime": {
     "end_time": "2021-06-18T21:39:29.363811Z",
     "start_time": "2021-06-18T21:39:29.350932Z"
    }
   },
   "outputs": [],
   "source": [
    "api_key = config.config.get('api', 'key')\n",
    "access_key = config.config.get('aws', 'access_key')\n",
    "secret_key = config.config.get('aws', 'secret_key')"
   ]
  },
  {
   "cell_type": "markdown",
   "id": "d64c92dc",
   "metadata": {},
   "source": [
    "## Hadoop AWS Configuration"
   ]
  },
  {
   "cell_type": "code",
   "execution_count": 9,
   "id": "09da251d",
   "metadata": {
    "ExecuteTime": {
     "end_time": "2021-06-18T21:39:31.323207Z",
     "start_time": "2021-06-18T21:39:31.301878Z"
    }
   },
   "outputs": [],
   "source": [
    "sc._jsc.hadoopConfiguration().set(\"fs.s3a.access.key\", access_key)\n",
    "sc._jsc.hadoopConfiguration().set(\"fs.s3a.secret.key\", secret_key)\n",
    "sc._jsc.hadoopConfiguration().set(\"fs.s3a.endpoint\", \"s3.amazonaws.com\")\n",
    "sc._jsc.hadoopConfiguration().set(\"fs.s3a.impl\", 'org.apache.hadoop.fs.s3a.S3AFileSystem')"
   ]
  },
  {
   "cell_type": "markdown",
   "id": "6b09792f",
   "metadata": {},
   "source": [
    "## Functions"
   ]
  },
  {
   "cell_type": "code",
   "execution_count": 28,
   "id": "002f393b",
   "metadata": {
    "ExecuteTime": {
     "end_time": "2021-06-18T16:23:01.805122Z",
     "start_time": "2021-06-18T16:23:01.789343Z"
    }
   },
   "outputs": [],
   "source": [
    "def get_data(state, lat, lon):\n",
    "    weather_api_url = \"https://api.openweathermap.org/data/2.5/onecall/timemachine?lat={}&lon={}&dt={}&units=imperial&appid={}\".format(\n",
    "        lat, lon, int(timestamp), api_key)\n",
    "    response = requests.get(weather_api_url)\n",
    "    response.raise_for_status()\n",
    "    return response.text"
   ]
  },
  {
   "cell_type": "markdown",
   "id": "9ee89b0a",
   "metadata": {},
   "source": [
    "## Load State Data"
   ]
  },
  {
   "cell_type": "code",
   "execution_count": 7,
   "id": "2855b499",
   "metadata": {
    "ExecuteTime": {
     "end_time": "2021-06-18T18:44:14.736767Z",
     "start_time": "2021-06-18T18:44:08.220186Z"
    },
    "scrolled": true
   },
   "outputs": [
    {
     "name": "stdout",
     "output_type": "stream",
     "text": [
      "+-------------+---------+-----------+\n",
      "|        State|      Lat|        Lon|\n",
      "+-------------+---------+-----------+\n",
      "|    Wisconsin|     44.5|      -89.5|\n",
      "|West Virginia|     39.0|      -80.5|\n",
      "|      Vermont|     44.0| -72.699997|\n",
      "|        Texas|     31.0|     -100.0|\n",
      "| South Dakota|     44.5|     -100.0|\n",
      "| Rhode Island|41.700001|      -71.5|\n",
      "|       Oregon|     44.0|     -120.5|\n",
      "|     New York|     43.0|      -75.0|\n",
      "|New Hampshire|     44.0|      -71.5|\n",
      "|     Nebraska|     41.5|     -100.0|\n",
      "|       Kansas|     38.5|      -98.0|\n",
      "|  Mississippi|     33.0|      -90.0|\n",
      "|     Illinois|     40.0|      -89.0|\n",
      "|     Delaware|     39.0|      -75.5|\n",
      "|  Connecticut|41.599998| -72.699997|\n",
      "|     Arkansas|34.799999| -92.199997|\n",
      "|      Indiana|40.273502| -86.126976|\n",
      "|     Missouri|38.573936|  -92.60376|\n",
      "|      Florida|27.994402| -81.760254|\n",
      "|       Nevada|39.876019|-117.224121|\n",
      "+-------------+---------+-----------+\n",
      "only showing top 20 rows\n",
      "\n"
     ]
    }
   ],
   "source": [
    "state_data = spark.read.csv('US_States.csv', inferSchema=True, header=True)\n",
    "state_data.show()"
   ]
  },
  {
   "cell_type": "markdown",
   "id": "4cbf512e",
   "metadata": {},
   "source": [
    "## Get Data From API"
   ]
  },
  {
   "cell_type": "code",
   "execution_count": 29,
   "id": "65933ae7",
   "metadata": {
    "ExecuteTime": {
     "end_time": "2021-06-18T16:23:01.858566Z",
     "start_time": "2021-06-18T16:23:01.847743Z"
    }
   },
   "outputs": [],
   "source": [
    "print(\"--------------------------------\")\n",
    "print('Getting data from API')\n",
    "print(\"--------------------------------\")\n",
    "state_df = state_data \\\n",
    "    .select('State', 'Lat', 'Lon') \\\n",
    "    .rdd.map(lambda row: (row[0], get_data(row[0], row[1], row[2]))) \\\n",
    "    .toDF(['State', 'Data'])\n",
    "print(\"--------------------------------\")\n",
    "print('Finished fetching data from API')\n",
    "print(\"--------------------------------\")"
   ]
  },
  {
   "cell_type": "markdown",
   "id": "c65895b3",
   "metadata": {},
   "source": [
    "## Save JSON to file to limit API calls"
   ]
  },
  {
   "cell_type": "code",
   "execution_count": 30,
   "id": "71d135f3",
   "metadata": {
    "ExecuteTime": {
     "end_time": "2021-06-18T16:23:01.926309Z",
     "start_time": "2021-06-18T16:23:01.885180Z"
    }
   },
   "outputs": [],
   "source": [
    "print(\"--------------------------------\")\n",
    "print('Saving data to file')\n",
    "print(\"--------------------------------\")\n",
    "state_df.write.mode('overwrite').json('raw_weather_data.json')\n",
    "print(\"--------------------------------\")\n",
    "print('Finished saving data to json file')\n",
    "print(\"--------------------------------\")"
   ]
  },
  {
   "cell_type": "code",
   "execution_count": 13,
   "id": "2a3d98e3",
   "metadata": {
    "ExecuteTime": {
     "end_time": "2021-06-18T21:41:31.805159Z",
     "start_time": "2021-06-18T21:41:31.465403Z"
    },
    "scrolled": true
   },
   "outputs": [
    {
     "name": "stdout",
     "output_type": "stream",
     "text": [
      "root\n",
      " |-- Data: string (nullable = true)\n",
      " |-- State: string (nullable = true)\n",
      "\n",
      "+--------------------+-------------+\n",
      "|                Data|        State|\n",
      "+--------------------+-------------+\n",
      "|{\"lat\":44.5,\"lon\"...|    Wisconsin|\n",
      "|{\"lat\":39,\"lon\":-...|West Virginia|\n",
      "|{\"lat\":44,\"lon\":-...|      Vermont|\n",
      "|{\"lat\":31,\"lon\":-...|        Texas|\n",
      "|{\"lat\":44.5,\"lon\"...| South Dakota|\n",
      "|{\"lat\":41.7,\"lon\"...| Rhode Island|\n",
      "|{\"lat\":44,\"lon\":-...|       Oregon|\n",
      "|{\"lat\":43,\"lon\":-...|     New York|\n",
      "|{\"lat\":44,\"lon\":-...|New Hampshire|\n",
      "|{\"lat\":41.5,\"lon\"...|     Nebraska|\n",
      "|{\"lat\":38.5,\"lon\"...|       Kansas|\n",
      "|{\"lat\":33,\"lon\":-...|  Mississippi|\n",
      "|{\"lat\":40,\"lon\":-...|     Illinois|\n",
      "|{\"lat\":39,\"lon\":-...|     Delaware|\n",
      "|{\"lat\":41.6,\"lon\"...|  Connecticut|\n",
      "|{\"lat\":34.8,\"lon\"...|     Arkansas|\n",
      "|{\"lat\":40.2735,\"l...|      Indiana|\n",
      "|{\"lat\":38.5739,\"l...|     Missouri|\n",
      "|{\"lat\":27.9944,\"l...|      Florida|\n",
      "|{\"lat\":39.876,\"lo...|       Nevada|\n",
      "+--------------------+-------------+\n",
      "only showing top 20 rows\n",
      "\n"
     ]
    }
   ],
   "source": [
    "df = spark.read.json('raw_weather_data.json')\n",
    "df.printSchema()\n",
    "df.show()"
   ]
  },
  {
   "cell_type": "markdown",
   "id": "bfe14a3a",
   "metadata": {},
   "source": [
    "## Extract data into columns"
   ]
  },
  {
   "cell_type": "code",
   "execution_count": 15,
   "id": "0b83be17",
   "metadata": {
    "ExecuteTime": {
     "end_time": "2021-06-18T21:42:33.811914Z",
     "start_time": "2021-06-18T21:42:32.401544Z"
    }
   },
   "outputs": [
    {
     "name": "stdout",
     "output_type": "stream",
     "text": [
      "root\n",
      " |-- State: string (nullable = true)\n",
      " |-- current: struct (nullable = true)\n",
      " |    |-- clouds: long (nullable = true)\n",
      " |    |-- dew_point: double (nullable = true)\n",
      " |    |-- dt: long (nullable = true)\n",
      " |    |-- feels_like: double (nullable = true)\n",
      " |    |-- humidity: long (nullable = true)\n",
      " |    |-- pressure: long (nullable = true)\n",
      " |    |-- sunrise: long (nullable = true)\n",
      " |    |-- sunset: long (nullable = true)\n",
      " |    |-- temp: double (nullable = true)\n",
      " |    |-- uvi: double (nullable = true)\n",
      " |    |-- visibility: long (nullable = true)\n",
      " |    |-- weather: array (nullable = true)\n",
      " |    |    |-- element: struct (containsNull = true)\n",
      " |    |    |    |-- description: string (nullable = true)\n",
      " |    |    |    |-- icon: string (nullable = true)\n",
      " |    |    |    |-- id: long (nullable = true)\n",
      " |    |    |    |-- main: string (nullable = true)\n",
      " |    |-- wind_deg: long (nullable = true)\n",
      " |    |-- wind_speed: double (nullable = true)\n",
      " |-- hourly: array (nullable = true)\n",
      " |    |-- element: struct (containsNull = true)\n",
      " |    |    |-- clouds: long (nullable = true)\n",
      " |    |    |-- dew_point: double (nullable = true)\n",
      " |    |    |-- dt: long (nullable = true)\n",
      " |    |    |-- feels_like: double (nullable = true)\n",
      " |    |    |-- humidity: long (nullable = true)\n",
      " |    |    |-- pressure: long (nullable = true)\n",
      " |    |    |-- temp: double (nullable = true)\n",
      " |    |    |-- visibility: long (nullable = true)\n",
      " |    |    |-- weather: array (nullable = true)\n",
      " |    |    |    |-- element: struct (containsNull = true)\n",
      " |    |    |    |    |-- description: string (nullable = true)\n",
      " |    |    |    |    |-- icon: string (nullable = true)\n",
      " |    |    |    |    |-- id: long (nullable = true)\n",
      " |    |    |    |    |-- main: string (nullable = true)\n",
      " |    |    |-- wind_deg: long (nullable = true)\n",
      " |    |    |-- wind_gust: double (nullable = true)\n",
      " |    |    |-- wind_speed: double (nullable = true)\n",
      " |-- lat: double (nullable = true)\n",
      " |-- lon: double (nullable = true)\n",
      " |-- timezone: string (nullable = true)\n",
      " |-- timezone_offset: long (nullable = true)\n",
      "\n",
      "+-------------+--------------------+--------------------+-------+---------+--------------------+---------------+\n",
      "|        State|             current|              hourly|    lat|      lon|            timezone|timezone_offset|\n",
      "+-------------+--------------------+--------------------+-------+---------+--------------------+---------------+\n",
      "|    Wisconsin|{1, 44.56, 162386...|[{1, 51.89, 16238...|   44.5|    -89.5|     America/Chicago|         -18000|\n",
      "|West Virginia|{1, 43.48, 162386...|[{75, 56.16, 1623...|   39.0|    -80.5|    America/New_York|         -14400|\n",
      "|      Vermont|{75, 42.01, 16238...|[{90, 55.35, 1623...|   44.0|    -72.7|    America/New_York|         -14400|\n",
      "|        Texas|{1, 61.86, 162386...|[{1, 60.78, 16238...|   31.0|   -100.0|     America/Chicago|         -18000|\n",
      "| South Dakota|{1, 61.79, 162386...|[{1, 54.16, 16238...|   44.5|   -100.0|     America/Chicago|         -18000|\n",
      "| Rhode Island|{20, 41.99, 16238...|[{40, 60.15, 1623...|   41.7|    -71.5|    America/New_York|         -14400|\n",
      "|       Oregon|{1, 41.31, 162386...|[{20, 32.83, 1623...|   44.0|   -120.5| America/Los_Angeles|         -25200|\n",
      "|     New York|{20, 42.58, 16238...|[{90, 52.21, 1623...|   43.0|    -75.0|    America/New_York|         -14400|\n",
      "|New Hampshire|{75, 43.25, 16238...|[{90, 57.99, 1623...|   44.0|    -71.5|    America/New_York|         -14400|\n",
      "|     Nebraska|{1, 58.71, 162386...|[{1, 62.65, 16238...|   41.5|   -100.0|     America/Chicago|         -18000|\n",
      "|       Kansas|{1, 62.87, 162386...|[{1, 54.82, 16238...|   38.5|    -98.0|     America/Chicago|         -18000|\n",
      "|  Mississippi|{1, 56.48, 162386...|[{1, 69.67, 16238...|   33.0|    -90.0|     America/Chicago|         -18000|\n",
      "|     Illinois|{1, 46.38, 162386...|[{75, 56.05, 1623...|   40.0|    -89.0|     America/Chicago|         -18000|\n",
      "|     Delaware|{20, 51.3, 162386...|[{1, 55.31, 16238...|   39.0|    -75.5|    America/New_York|         -14400|\n",
      "|  Connecticut|{1, 39.06, 162386...|[{1, 52.79, 16238...|   41.6|    -72.7|    America/New_York|         -14400|\n",
      "|     Arkansas|{75, 64.53, 16238...|[{20, 66.97, 1623...|   34.8|    -92.2|     America/Chicago|         -18000|\n",
      "|      Indiana|{20, 52.03, 16238...|[{1, 51.48, 16238...|40.2735|  -86.127|America/Indiana/I...|         -14400|\n",
      "|     Missouri|{1, 56.1, 1623862...|[{1, 49.06, 16238...|38.5739| -92.6038|     America/Chicago|         -18000|\n",
      "|      Florida|{20, 72.73, 16238...|[{1, 70.48, 16238...|27.9944| -81.7603|    America/New_York|         -14400|\n",
      "|       Nevada|{34, 22.19, 16238...|[{0, 26.49, 16238...| 39.876|-117.2241| America/Los_Angeles|         -25200|\n",
      "+-------------+--------------------+--------------------+-------+---------+--------------------+---------------+\n",
      "only showing top 20 rows\n",
      "\n"
     ]
    }
   ],
   "source": [
    "api_json_example = df.select('Data').first()[0]\n",
    "\n",
    "api_schema = df.select(F.schema_of_json(api_json_example)).first()[0]\n",
    "\n",
    "df2 = df.withColumn('Data', F.from_json(F.col('Data'), schema=api_schema)).select('*', 'Data.*').drop('Data')\n",
    "df2.printSchema()\n",
    "df2.show()"
   ]
  },
  {
   "cell_type": "markdown",
   "id": "c348e207",
   "metadata": {},
   "source": [
    "## Flattening Hourly Data"
   ]
  },
  {
   "cell_type": "code",
   "execution_count": 16,
   "id": "7327b196",
   "metadata": {
    "ExecuteTime": {
     "end_time": "2021-06-18T21:42:57.112616Z",
     "start_time": "2021-06-18T21:42:54.211163Z"
    },
    "scrolled": false
   },
   "outputs": [
    {
     "name": "stdout",
     "output_type": "stream",
     "text": [
      "root\n",
      " |-- State: string (nullable = true)\n",
      " |-- Timezone: string (nullable = true)\n",
      " |-- Max_Temp: double (nullable = true)\n",
      " |-- Min_Temp: double (nullable = true)\n",
      " |-- Conditions: string (nullable = true)\n",
      " |-- Details: string (nullable = true)\n",
      "\n",
      "+--------------+-------------------+--------+--------+----------+----------------+\n",
      "|         State|           Timezone|Max_Temp|Min_Temp|Conditions|         Details|\n",
      "+--------------+-------------------+--------+--------+----------+----------------+\n",
      "|    Washington|America/Los_Angeles|   75.29|   45.52|      Mist| overcast clouds|\n",
      "|     Wisconsin|    America/Chicago|   79.21|   48.09|    Clouds|scattered clouds|\n",
      "|   Connecticut|   America/New_York|   73.81|   57.83|    Clouds|scattered clouds|\n",
      "|     Louisiana|    America/Chicago|   93.07|   73.63|      Haze|            haze|\n",
      "|      Nebraska|    America/Chicago|  103.48|    68.0|      Rain|      light rain|\n",
      "|South Carolina|   America/New_York|   86.14|   66.47|    Clouds|scattered clouds|\n",
      "| West Virginia|   America/New_York|   73.02|   47.32|      Rain| overcast clouds|\n",
      "|      Michigan|    America/Detroit|    75.2|   42.57|     Clear|       clear sky|\n",
      "|      Maryland|   America/New_York|   79.05|   62.06|      Rain|scattered clouds|\n",
      "|      Virginia|   America/New_York|   79.79|   60.57|    Clouds|scattered clouds|\n",
      "|      New York|   America/New_York|   65.73|   46.54|    Clouds|scattered clouds|\n",
      "|      Missouri|    America/Chicago|   90.01|   63.93|      Haze|scattered clouds|\n",
      "|North Carolina|   America/New_York|   83.43|   59.54|    Clouds|scattered clouds|\n",
      "|  North Dakota|    America/Chicago|    89.6|    68.0|    Clouds|      few clouds|\n",
      "|  South Dakota|    America/Chicago|    98.4|    72.3|     Clear|       clear sky|\n",
      "|  Rhode Island|   America/New_York|    75.2|   59.32|      Rain|scattered clouds|\n",
      "|      Colorado|     America/Denver|   87.89|   59.27|    Clouds|scattered clouds|\n",
      "|        Nevada|America/Los_Angeles|   86.18|   58.19|    Clouds|scattered clouds|\n",
      "| New Hampshire|   America/New_York|   67.17|   51.94|      Rain|scattered clouds|\n",
      "| Massachusetts|   America/New_York|   73.13|   57.22|    Clouds|scattered clouds|\n",
      "+--------------+-------------------+--------+--------+----------+----------------+\n",
      "only showing top 20 rows\n",
      "\n"
     ]
    }
   ],
   "source": [
    "flat_df = df2 \\\n",
    "    .withColumn('hourly', F.explode('hourly')) \\\n",
    "    .select('State', 'timezone', 'hourly.*') \\\n",
    "    .withColumnRenamed('timezone', 'Timezone') \\\n",
    "    .groupBy('State', 'Timezone') \\\n",
    "    .agg(F.max('temp').alias('Max_Temp'), \\\n",
    "         F.min('temp').alias('Min_Temp'), \\\n",
    "         F.max('weather.main')[0].alias('Conditions'), \\\n",
    "         F.max('weather.Description')[0].alias('Details'))\n",
    "flat_df.printSchema()\n",
    "flat_df.show()"
   ]
  },
  {
   "cell_type": "markdown",
   "id": "8fa17864",
   "metadata": {},
   "source": [
    "## Add yesterday Date to dataframe"
   ]
  },
  {
   "cell_type": "code",
   "execution_count": 17,
   "id": "968064a8",
   "metadata": {
    "ExecuteTime": {
     "end_time": "2021-06-18T21:43:06.396640Z",
     "start_time": "2021-06-18T21:43:04.816405Z"
    },
    "scrolled": false
   },
   "outputs": [
    {
     "name": "stdout",
     "output_type": "stream",
     "text": [
      "root\n",
      " |-- State: string (nullable = true)\n",
      " |-- Timezone: string (nullable = true)\n",
      " |-- Max_Temp: double (nullable = true)\n",
      " |-- Min_Temp: double (nullable = true)\n",
      " |-- Conditions: string (nullable = true)\n",
      " |-- Details: string (nullable = true)\n",
      " |-- Date: date (nullable = false)\n",
      "\n",
      "+--------------+-------------------+--------+--------+----------+----------------+----------+\n",
      "|         State|           Timezone|Max_Temp|Min_Temp|Conditions|         Details|      Date|\n",
      "+--------------+-------------------+--------+--------+----------+----------------+----------+\n",
      "|    Washington|America/Los_Angeles|   75.29|   45.52|      Mist| overcast clouds|2021-06-17|\n",
      "|     Wisconsin|    America/Chicago|   79.21|   48.09|    Clouds|scattered clouds|2021-06-17|\n",
      "|   Connecticut|   America/New_York|   73.81|   57.83|    Clouds|scattered clouds|2021-06-17|\n",
      "|     Louisiana|    America/Chicago|   93.07|   73.63|      Haze|            haze|2021-06-17|\n",
      "|      Nebraska|    America/Chicago|  103.48|    68.0|      Rain|      light rain|2021-06-17|\n",
      "|South Carolina|   America/New_York|   86.14|   66.47|    Clouds|scattered clouds|2021-06-17|\n",
      "| West Virginia|   America/New_York|   73.02|   47.32|      Rain| overcast clouds|2021-06-17|\n",
      "|      Michigan|    America/Detroit|    75.2|   42.57|     Clear|       clear sky|2021-06-17|\n",
      "|      Maryland|   America/New_York|   79.05|   62.06|      Rain|scattered clouds|2021-06-17|\n",
      "|      Virginia|   America/New_York|   79.79|   60.57|    Clouds|scattered clouds|2021-06-17|\n",
      "|      New York|   America/New_York|   65.73|   46.54|    Clouds|scattered clouds|2021-06-17|\n",
      "|      Missouri|    America/Chicago|   90.01|   63.93|      Haze|scattered clouds|2021-06-17|\n",
      "|North Carolina|   America/New_York|   83.43|   59.54|    Clouds|scattered clouds|2021-06-17|\n",
      "|  North Dakota|    America/Chicago|    89.6|    68.0|    Clouds|      few clouds|2021-06-17|\n",
      "|  South Dakota|    America/Chicago|    98.4|    72.3|     Clear|       clear sky|2021-06-17|\n",
      "|  Rhode Island|   America/New_York|    75.2|   59.32|      Rain|scattered clouds|2021-06-17|\n",
      "|      Colorado|     America/Denver|   87.89|   59.27|    Clouds|scattered clouds|2021-06-17|\n",
      "|        Nevada|America/Los_Angeles|   86.18|   58.19|    Clouds|scattered clouds|2021-06-17|\n",
      "| New Hampshire|   America/New_York|   67.17|   51.94|      Rain|scattered clouds|2021-06-17|\n",
      "| Massachusetts|   America/New_York|   73.13|   57.22|    Clouds|scattered clouds|2021-06-17|\n",
      "+--------------+-------------------+--------+--------+----------+----------------+----------+\n",
      "only showing top 20 rows\n",
      "\n"
     ]
    }
   ],
   "source": [
    "flat_df = flat_df.withColumn('Date', F.lit(yesterday.date()))\n",
    "flat_df.printSchema()\n",
    "flat_df.show()"
   ]
  },
  {
   "cell_type": "markdown",
   "id": "f1b4db36",
   "metadata": {},
   "source": [
    "## Final Dataframe"
   ]
  },
  {
   "cell_type": "code",
   "execution_count": 18,
   "id": "c3906481",
   "metadata": {
    "ExecuteTime": {
     "end_time": "2021-06-18T21:43:29.539762Z",
     "start_time": "2021-06-18T21:43:27.228216Z"
    },
    "scrolled": false
   },
   "outputs": [
    {
     "name": "stdout",
     "output_type": "stream",
     "text": [
      "root\n",
      " |-- Date: date (nullable = false)\n",
      " |-- State: string (nullable = true)\n",
      " |-- Timezone: string (nullable = true)\n",
      " |-- Conditions: string (nullable = true)\n",
      " |-- Details: string (nullable = true)\n",
      " |-- Min_Temp: double (nullable = true)\n",
      " |-- Max_Temp: double (nullable = true)\n",
      "\n",
      "+----------+-----------+----------------------------+----------+----------------+--------+--------+\n",
      "|Date      |State      |Timezone                    |Conditions|Details         |Min_Temp|Max_Temp|\n",
      "+----------+-----------+----------------------------+----------+----------------+--------+--------+\n",
      "|2021-06-17|Alabama    |America/Chicago             |Clouds    |overcast clouds |64.63   |88.86   |\n",
      "|2021-06-17|Alaska     |America/Anchorage           |Clouds    |few clouds      |50.0    |71.6    |\n",
      "|2021-06-17|Arizona    |America/Phoenix             |Clouds    |scattered clouds|67.48   |103.44  |\n",
      "|2021-06-17|Arkansas   |America/Chicago             |Clouds    |scattered clouds|70.12   |89.89   |\n",
      "|2021-06-17|California |America/Los_Angeles         |Clouds    |few clouds      |63.66   |92.79   |\n",
      "|2021-06-17|Colorado   |America/Denver              |Clouds    |scattered clouds|59.27   |87.89   |\n",
      "|2021-06-17|Connecticut|America/New_York            |Clouds    |scattered clouds|57.83   |73.81   |\n",
      "|2021-06-17|Delaware   |America/New_York            |Clouds    |scattered clouds|62.55   |78.26   |\n",
      "|2021-06-17|Florida    |America/New_York            |Rain      |scattered clouds|71.78   |83.7    |\n",
      "|2021-06-17|Georgia    |America/New_York            |Clouds    |scattered clouds|62.71   |86.4    |\n",
      "|2021-06-17|Hawaii     |Pacific/Honolulu            |Clouds    |scattered clouds|61.92   |76.64   |\n",
      "|2021-06-17|Idaho      |America/Boise               |Clear     |clear sky       |40.89   |80.06   |\n",
      "|2021-06-17|Illinois   |America/Chicago             |Clouds    |scattered clouds|60.01   |82.54   |\n",
      "|2021-06-17|Indiana    |America/Indiana/Indianapolis|Rain      |scattered clouds|54.79   |80.53   |\n",
      "|2021-06-17|Iowa       |America/Chicago             |Clouds    |few clouds      |62.89   |88.34   |\n",
      "|2021-06-17|Kansas     |America/Chicago             |Clear     |clear sky       |69.91   |101.23  |\n",
      "|2021-06-17|Kentucky   |America/New_York            |Clouds    |scattered clouds|58.28   |78.46   |\n",
      "|2021-06-17|Louisiana  |America/Chicago             |Haze      |haze            |73.63   |93.07   |\n",
      "|2021-06-17|Maine      |America/New_York            |Clouds    |scattered clouds|56.17   |69.46   |\n",
      "|2021-06-17|Maryland   |America/New_York            |Rain      |scattered clouds|62.06   |79.05   |\n",
      "+----------+-----------+----------------------------+----------+----------------+--------+--------+\n",
      "only showing top 20 rows\n",
      "\n"
     ]
    }
   ],
   "source": [
    "final_df = flat_df.select('Date', 'State', 'Timezone', 'Conditions', 'Details', 'Min_Temp', 'Max_Temp') \\\n",
    "    .orderBy(F.col('State').asc())\n",
    "final_df.printSchema()\n",
    "final_df.show(truncate=False)"
   ]
  },
  {
   "cell_type": "markdown",
   "id": "b968c763",
   "metadata": {},
   "source": [
    "### Save to parquet format locally"
   ]
  },
  {
   "cell_type": "code",
   "execution_count": 19,
   "id": "426dfdfa",
   "metadata": {
    "ExecuteTime": {
     "end_time": "2021-06-18T21:43:41.726113Z",
     "start_time": "2021-06-18T21:43:35.137688Z"
    }
   },
   "outputs": [
    {
     "name": "stdout",
     "output_type": "stream",
     "text": [
      "----------------------------------------------------\n",
      "Saving dataframe to parquet format\n",
      "----------------------------------------------------\n",
      "----------------------------------------------------\n",
      "Finished saving dataframe to parquet format\n",
      "----------------------------------------------------\n"
     ]
    }
   ],
   "source": [
    "print(\"----------------------------------------------------\")\n",
    "print('Saving dataframe to parquet format')\n",
    "print(\"----------------------------------------------------\")\n",
    "final_df.write.parquet('weather_df_output.parquet', mode=\"overwrite\")\n",
    "print(\"----------------------------------------------------\")\n",
    "print('Finished saving dataframe to parquet format')\n",
    "print(\"----------------------------------------------------\")"
   ]
  },
  {
   "cell_type": "markdown",
   "id": "f2c6d4f5",
   "metadata": {},
   "source": [
    "## Spark Dataframe in parquet to S3 bucket"
   ]
  },
  {
   "cell_type": "markdown",
   "id": "7c8304e4",
   "metadata": {},
   "source": [
    "### Init Spark to S3 connection"
   ]
  },
  {
   "cell_type": "code",
   "execution_count": 23,
   "id": "86d3db19",
   "metadata": {
    "ExecuteTime": {
     "end_time": "2021-06-18T21:03:02.083825Z",
     "start_time": "2021-06-18T21:00:15.072465Z"
    }
   },
   "outputs": [
    {
     "name": "stdout",
     "output_type": "stream",
     "text": [
      "--------------------------------\n",
      "Saving dataframe to parquet format to S3\n",
      "--------------------------------\n",
      "--------------------------------\n",
      "Finished saving dataframe to parquet format to S3\n",
      "--------------------------------\n"
     ]
    }
   ],
   "source": [
    "print(\"----------------------------------------------------\")\n",
    "print('Saving dataframe to parquet format to S3')\n",
    "print(\"----------------------------------------------------\")\n",
    "final_df.write.parquet('s3a://jn-de-sample-bucket-2021/weather-etl/weather_df_output.parquet', mode='overwrite')\n",
    "print(\"----------------------------------------------------\")\n",
    "print('Finished saving dataframe to parquet format to S3')\n",
    "print(\"----------------------------------------------------\")"
   ]
  },
  {
   "cell_type": "markdown",
   "id": "56885ac6",
   "metadata": {},
   "source": [
    "### Read from parquet into dataframe"
   ]
  },
  {
   "cell_type": "code",
   "execution_count": 20,
   "id": "4c746a04",
   "metadata": {
    "ExecuteTime": {
     "end_time": "2021-06-18T21:44:31.015930Z",
     "start_time": "2021-06-18T21:44:06.825345Z"
    },
    "scrolled": false
   },
   "outputs": [
    {
     "name": "stdout",
     "output_type": "stream",
     "text": [
      "----------------------------------------------------\n",
      "Loading parquet data from S3\n",
      "----------------------------------------------------\n",
      "+----------+--------------+--------------------+----------+----------------+--------+--------+\n",
      "|      Date|         State|            Timezone|Conditions|         Details|Min_Temp|Max_Temp|\n",
      "+----------+--------------+--------------------+----------+----------------+--------+--------+\n",
      "|2021-06-17|       Indiana|America/Indiana/I...|      Rain|scattered clouds|   54.79|   80.53|\n",
      "|2021-06-17|North Carolina|    America/New_York|    Clouds|scattered clouds|   59.54|   83.43|\n",
      "|2021-06-17|South Carolina|    America/New_York|    Clouds|scattered clouds|   66.47|   86.14|\n",
      "|2021-06-17| Massachusetts|    America/New_York|    Clouds|scattered clouds|   57.22|   73.13|\n",
      "|2021-06-17|   Connecticut|    America/New_York|    Clouds|scattered clouds|   57.83|   73.81|\n",
      "|2021-06-17|  Pennsylvania|    America/New_York|    Clouds| overcast clouds|   50.16|   72.61|\n",
      "|2021-06-17| New Hampshire|    America/New_York|      Rain|scattered clouds|   51.94|   67.17|\n",
      "|2021-06-17|  Rhode Island|    America/New_York|      Rain|scattered clouds|   59.32|    75.2|\n",
      "|2021-06-17|    Washington| America/Los_Angeles|      Mist| overcast clouds|   45.52|   75.29|\n",
      "|2021-06-17| West Virginia|    America/New_York|      Rain| overcast clouds|   47.32|   73.02|\n",
      "|2021-06-17|        Nevada| America/Los_Angeles|    Clouds|scattered clouds|   58.19|   86.18|\n",
      "|2021-06-17|        Oregon| America/Los_Angeles|    Clouds|scattered clouds|    39.0|   74.19|\n",
      "|2021-06-17|      Delaware|    America/New_York|    Clouds|scattered clouds|   62.55|   78.26|\n",
      "|2021-06-17|      Kentucky|    America/New_York|    Clouds|scattered clouds|   58.28|   78.46|\n",
      "|2021-06-17|    New Mexico|      America/Denver|    Clouds|scattered clouds|   62.01|   95.68|\n",
      "|2021-06-17|      New York|    America/New_York|    Clouds|scattered clouds|   46.54|   65.73|\n",
      "|2021-06-17|     Tennessee|     America/Chicago|    Clouds|scattered clouds|   59.23|   84.72|\n",
      "|2021-06-17|      Virginia|    America/New_York|    Clouds|scattered clouds|   60.57|   79.79|\n",
      "|2021-06-17|     Wisconsin|     America/Chicago|    Clouds|scattered clouds|   48.09|   79.21|\n",
      "|2021-06-17|      Arkansas|     America/Chicago|    Clouds|scattered clouds|   70.12|   89.89|\n",
      "+----------+--------------+--------------------+----------+----------------+--------+--------+\n",
      "only showing top 20 rows\n",
      "\n",
      "----------------------------------------------------\n",
      "Finished loading parquet data from S3\n",
      "----------------------------------------------------\n"
     ]
    }
   ],
   "source": [
    "print(\"----------------------------------------------------\")\n",
    "print('Loading parquet data from S3')\n",
    "print(\"----------------------------------------------------\")\n",
    "parq_df = spark.read.parquet(\"s3a://jn-de-sample-bucket-2021/weather-etl/weather_df_output.parquet\")\n",
    "parq_df.show()\n",
    "print(\"----------------------------------------------------\")\n",
    "print('Finished loading parquet data from S3')\n",
    "print(\"----------------------------------------------------\")"
   ]
  },
  {
   "cell_type": "markdown",
   "id": "c4bc3001",
   "metadata": {},
   "source": [
    "## Using SQL queries on spark dataframe from S3"
   ]
  },
  {
   "cell_type": "code",
   "execution_count": 23,
   "id": "4fffbe20",
   "metadata": {
    "ExecuteTime": {
     "end_time": "2021-06-18T21:47:29.666877Z",
     "start_time": "2021-06-18T21:47:11.357734Z"
    }
   },
   "outputs": [
    {
     "name": "stdout",
     "output_type": "stream",
     "text": [
      "+----------+-------------+--------------------+----------+----------------+--------+--------+\n",
      "|      Date|        State|            Timezone|Conditions|         Details|Min_Temp|Max_Temp|\n",
      "+----------+-------------+--------------------+----------+----------------+--------+--------+\n",
      "|2021-06-17|      Indiana|America/Indiana/I...|      Rain|scattered clouds|   54.79|   80.53|\n",
      "|2021-06-17|New Hampshire|    America/New_York|      Rain|scattered clouds|   51.94|   67.17|\n",
      "|2021-06-17| Rhode Island|    America/New_York|      Rain|scattered clouds|   59.32|    75.2|\n",
      "|2021-06-17|West Virginia|    America/New_York|      Rain| overcast clouds|   47.32|   73.02|\n",
      "|2021-06-17|     Maryland|    America/New_York|      Rain|scattered clouds|   62.06|   79.05|\n",
      "|2021-06-17|      Florida|    America/New_York|      Rain|scattered clouds|   71.78|    83.7|\n",
      "|2021-06-17|     Nebraska|     America/Chicago|      Rain|      light rain|    68.0|  103.48|\n",
      "+----------+-------------+--------------------+----------+----------------+--------+--------+\n",
      "\n"
     ]
    }
   ],
   "source": [
    "parq_df.createOrReplaceTempView(\"ParquetTable\")\n",
    "parq_sql = spark.sql(\"SELECT * FROM ParquetTable WHERE Conditions LIKE 'Rain'\")\n",
    "parq_sql.show()"
   ]
  },
  {
   "cell_type": "code",
   "execution_count": null,
   "id": "e73a2d7a",
   "metadata": {},
   "outputs": [],
   "source": []
  },
  {
   "cell_type": "code",
   "execution_count": null,
   "id": "3cdbf937",
   "metadata": {},
   "outputs": [],
   "source": []
  },
  {
   "cell_type": "code",
   "execution_count": null,
   "id": "063d52d2",
   "metadata": {},
   "outputs": [],
   "source": []
  }
 ],
 "metadata": {
  "kernelspec": {
   "display_name": "Python 3",
   "language": "python",
   "name": "python3"
  },
  "language_info": {
   "codemirror_mode": {
    "name": "ipython",
    "version": 3
   },
   "file_extension": ".py",
   "mimetype": "text/x-python",
   "name": "python",
   "nbconvert_exporter": "python",
   "pygments_lexer": "ipython3",
   "version": "3.9.2"
  }
 },
 "nbformat": 4,
 "nbformat_minor": 5
}
